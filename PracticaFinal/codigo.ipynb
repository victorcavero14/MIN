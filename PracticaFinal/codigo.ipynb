{
 "cells": [
  {
   "cell_type": "markdown",
   "id": "d97a63b3",
   "metadata": {},
   "source": [
    "# Análisis de sentimientos de tweets para recomendar péliculas de IMDB\n",
    "\n",
    "Mediante el dataset proporcionado por la web (https://www.kaggle.com/kazanova/sentiment140) y los recursos de TensorFlow lograremos clasificar nuevos tweets.\n",
    "Cargamos primero el dataset y las librerias necesarias:"
   ]
  },
  {
   "cell_type": "code",
   "execution_count": 1,
   "id": "32c3c2bf",
   "metadata": {},
   "outputs": [
    {
     "name": "stderr",
     "output_type": "stream",
     "text": [
      "[nltk_data] Downloading package words to /root/nltk_data...\n",
      "[nltk_data]   Package words is already up-to-date!\n",
      "[nltk_data] Downloading package stopwords to /root/nltk_data...\n",
      "[nltk_data]   Package stopwords is already up-to-date!\n"
     ]
    }
   ],
   "source": [
    "import tensorflow as tf # Libreria de aprendizaje automatico\n",
    "import pandas as pd # Libreria para manejo de grandes datos\n",
    "import numpy as np # Libreria operaciones numericas\n",
    "import matplotlib.pyplot as plt # Visualizado de datos\n",
    "import seaborn as sns # Visualizado de datos\n",
    "from tensorflow.keras.models import load_model\n",
    "from tensorflow.keras.layers.experimental.preprocessing import TextVectorization\n",
    "import nltk\n",
    "nltk.download('words') # Dataset de todas las palabras de habla inglesa\n",
    "import nltk \n",
    "nltk.download('stopwords')\n",
    "from nltk.corpus import stopwords # Dataset de palabras vacias (articulo, pronombres o preposiciones)\n",
    "english_stopwords = stopwords.words('english')\n",
    "from nltk.stem import SnowballStemmer # Para realizar stemming\n",
    "stemmer = SnowballStemmer('english')\n",
    "import re # Expresion regular para limpiar el dataset\n",
    "\n",
    "# Para obtener los mismos resultados aunque realicemos varias ejecuciones\n",
    "tf.random.set_seed(44)"
   ]
  },
  {
   "cell_type": "code",
   "execution_count": 2,
   "id": "f47ae5eb",
   "metadata": {
    "scrolled": true
   },
   "outputs": [],
   "source": [
    "# Debido al gran tamaño del dataset (1.600.000 tweets), me quedo solo con una parte del mismo (50.000 tweets),\n",
    "# Para evitar grandes tiempos de entrenamiento de la red neuronal\n",
    "DATASIZE = 25000\n",
    "\n",
    "data = pd.read_csv('data/training.1600000.processed.noemoticon.csv', encoding = 'latin', header=None)\n",
    "d1 = pd.DataFrame(data.head(DATASIZE)) \n",
    "d2 = pd.DataFrame(data.tail(DATASIZE)) \n",
    "data = pd.concat([d1,d2])"
   ]
  },
  {
   "cell_type": "code",
   "execution_count": 3,
   "id": "be187bfe",
   "metadata": {},
   "outputs": [
    {
     "data": {
      "text/html": [
       "<div>\n",
       "<style scoped>\n",
       "    .dataframe tbody tr th:only-of-type {\n",
       "        vertical-align: middle;\n",
       "    }\n",
       "\n",
       "    .dataframe tbody tr th {\n",
       "        vertical-align: top;\n",
       "    }\n",
       "\n",
       "    .dataframe thead th {\n",
       "        text-align: right;\n",
       "    }\n",
       "</style>\n",
       "<table border=\"1\" class=\"dataframe\">\n",
       "  <thead>\n",
       "    <tr style=\"text-align: right;\">\n",
       "      <th></th>\n",
       "      <th>0</th>\n",
       "      <th>1</th>\n",
       "      <th>2</th>\n",
       "      <th>3</th>\n",
       "      <th>4</th>\n",
       "      <th>5</th>\n",
       "    </tr>\n",
       "  </thead>\n",
       "  <tbody>\n",
       "    <tr>\n",
       "      <th>0</th>\n",
       "      <td>0</td>\n",
       "      <td>1467810369</td>\n",
       "      <td>Mon Apr 06 22:19:45 PDT 2009</td>\n",
       "      <td>NO_QUERY</td>\n",
       "      <td>_TheSpecialOne_</td>\n",
       "      <td>@switchfoot http://twitpic.com/2y1zl - Awww, t...</td>\n",
       "    </tr>\n",
       "    <tr>\n",
       "      <th>1</th>\n",
       "      <td>0</td>\n",
       "      <td>1467810672</td>\n",
       "      <td>Mon Apr 06 22:19:49 PDT 2009</td>\n",
       "      <td>NO_QUERY</td>\n",
       "      <td>scotthamilton</td>\n",
       "      <td>is upset that he can't update his Facebook by ...</td>\n",
       "    </tr>\n",
       "    <tr>\n",
       "      <th>2</th>\n",
       "      <td>0</td>\n",
       "      <td>1467810917</td>\n",
       "      <td>Mon Apr 06 22:19:53 PDT 2009</td>\n",
       "      <td>NO_QUERY</td>\n",
       "      <td>mattycus</td>\n",
       "      <td>@Kenichan I dived many times for the ball. Man...</td>\n",
       "    </tr>\n",
       "    <tr>\n",
       "      <th>3</th>\n",
       "      <td>0</td>\n",
       "      <td>1467811184</td>\n",
       "      <td>Mon Apr 06 22:19:57 PDT 2009</td>\n",
       "      <td>NO_QUERY</td>\n",
       "      <td>ElleCTF</td>\n",
       "      <td>my whole body feels itchy and like its on fire</td>\n",
       "    </tr>\n",
       "    <tr>\n",
       "      <th>4</th>\n",
       "      <td>0</td>\n",
       "      <td>1467811193</td>\n",
       "      <td>Mon Apr 06 22:19:57 PDT 2009</td>\n",
       "      <td>NO_QUERY</td>\n",
       "      <td>Karoli</td>\n",
       "      <td>@nationwideclass no, it's not behaving at all....</td>\n",
       "    </tr>\n",
       "    <tr>\n",
       "      <th>...</th>\n",
       "      <td>...</td>\n",
       "      <td>...</td>\n",
       "      <td>...</td>\n",
       "      <td>...</td>\n",
       "      <td>...</td>\n",
       "      <td>...</td>\n",
       "    </tr>\n",
       "    <tr>\n",
       "      <th>1599995</th>\n",
       "      <td>4</td>\n",
       "      <td>2193601966</td>\n",
       "      <td>Tue Jun 16 08:40:49 PDT 2009</td>\n",
       "      <td>NO_QUERY</td>\n",
       "      <td>AmandaMarie1028</td>\n",
       "      <td>Just woke up. Having no school is the best fee...</td>\n",
       "    </tr>\n",
       "    <tr>\n",
       "      <th>1599996</th>\n",
       "      <td>4</td>\n",
       "      <td>2193601969</td>\n",
       "      <td>Tue Jun 16 08:40:49 PDT 2009</td>\n",
       "      <td>NO_QUERY</td>\n",
       "      <td>TheWDBoards</td>\n",
       "      <td>TheWDB.com - Very cool to hear old Walt interv...</td>\n",
       "    </tr>\n",
       "    <tr>\n",
       "      <th>1599997</th>\n",
       "      <td>4</td>\n",
       "      <td>2193601991</td>\n",
       "      <td>Tue Jun 16 08:40:49 PDT 2009</td>\n",
       "      <td>NO_QUERY</td>\n",
       "      <td>bpbabe</td>\n",
       "      <td>Are you ready for your MoJo Makeover? Ask me f...</td>\n",
       "    </tr>\n",
       "    <tr>\n",
       "      <th>1599998</th>\n",
       "      <td>4</td>\n",
       "      <td>2193602064</td>\n",
       "      <td>Tue Jun 16 08:40:49 PDT 2009</td>\n",
       "      <td>NO_QUERY</td>\n",
       "      <td>tinydiamondz</td>\n",
       "      <td>Happy 38th Birthday to my boo of alll time!!! ...</td>\n",
       "    </tr>\n",
       "    <tr>\n",
       "      <th>1599999</th>\n",
       "      <td>4</td>\n",
       "      <td>2193602129</td>\n",
       "      <td>Tue Jun 16 08:40:50 PDT 2009</td>\n",
       "      <td>NO_QUERY</td>\n",
       "      <td>RyanTrevMorris</td>\n",
       "      <td>happy #charitytuesday @theNSPCC @SparksCharity...</td>\n",
       "    </tr>\n",
       "  </tbody>\n",
       "</table>\n",
       "<p>50000 rows × 6 columns</p>\n",
       "</div>"
      ],
      "text/plain": [
       "         0           1                             2         3  \\\n",
       "0        0  1467810369  Mon Apr 06 22:19:45 PDT 2009  NO_QUERY   \n",
       "1        0  1467810672  Mon Apr 06 22:19:49 PDT 2009  NO_QUERY   \n",
       "2        0  1467810917  Mon Apr 06 22:19:53 PDT 2009  NO_QUERY   \n",
       "3        0  1467811184  Mon Apr 06 22:19:57 PDT 2009  NO_QUERY   \n",
       "4        0  1467811193  Mon Apr 06 22:19:57 PDT 2009  NO_QUERY   \n",
       "...     ..         ...                           ...       ...   \n",
       "1599995  4  2193601966  Tue Jun 16 08:40:49 PDT 2009  NO_QUERY   \n",
       "1599996  4  2193601969  Tue Jun 16 08:40:49 PDT 2009  NO_QUERY   \n",
       "1599997  4  2193601991  Tue Jun 16 08:40:49 PDT 2009  NO_QUERY   \n",
       "1599998  4  2193602064  Tue Jun 16 08:40:49 PDT 2009  NO_QUERY   \n",
       "1599999  4  2193602129  Tue Jun 16 08:40:50 PDT 2009  NO_QUERY   \n",
       "\n",
       "                       4                                                  5  \n",
       "0        _TheSpecialOne_  @switchfoot http://twitpic.com/2y1zl - Awww, t...  \n",
       "1          scotthamilton  is upset that he can't update his Facebook by ...  \n",
       "2               mattycus  @Kenichan I dived many times for the ball. Man...  \n",
       "3                ElleCTF    my whole body feels itchy and like its on fire   \n",
       "4                 Karoli  @nationwideclass no, it's not behaving at all....  \n",
       "...                  ...                                                ...  \n",
       "1599995  AmandaMarie1028  Just woke up. Having no school is the best fee...  \n",
       "1599996      TheWDBoards  TheWDB.com - Very cool to hear old Walt interv...  \n",
       "1599997           bpbabe  Are you ready for your MoJo Makeover? Ask me f...  \n",
       "1599998     tinydiamondz  Happy 38th Birthday to my boo of alll time!!! ...  \n",
       "1599999   RyanTrevMorris  happy #charitytuesday @theNSPCC @SparksCharity...  \n",
       "\n",
       "[50000 rows x 6 columns]"
      ]
     },
     "execution_count": 3,
     "metadata": {},
     "output_type": "execute_result"
    }
   ],
   "source": [
    "data"
   ]
  },
  {
   "cell_type": "code",
   "execution_count": 4,
   "id": "f2956b42",
   "metadata": {},
   "outputs": [
    {
     "data": {
      "text/html": [
       "<div>\n",
       "<style scoped>\n",
       "    .dataframe tbody tr th:only-of-type {\n",
       "        vertical-align: middle;\n",
       "    }\n",
       "\n",
       "    .dataframe tbody tr th {\n",
       "        vertical-align: top;\n",
       "    }\n",
       "\n",
       "    .dataframe thead th {\n",
       "        text-align: right;\n",
       "    }\n",
       "</style>\n",
       "<table border=\"1\" class=\"dataframe\">\n",
       "  <thead>\n",
       "    <tr style=\"text-align: right;\">\n",
       "      <th></th>\n",
       "      <th>target</th>\n",
       "      <th>id</th>\n",
       "      <th>date</th>\n",
       "      <th>query</th>\n",
       "      <th>username</th>\n",
       "      <th>content</th>\n",
       "    </tr>\n",
       "  </thead>\n",
       "  <tbody>\n",
       "    <tr>\n",
       "      <th>0</th>\n",
       "      <td>0</td>\n",
       "      <td>1467810369</td>\n",
       "      <td>Mon Apr 06 22:19:45 PDT 2009</td>\n",
       "      <td>NO_QUERY</td>\n",
       "      <td>_TheSpecialOne_</td>\n",
       "      <td>@switchfoot http://twitpic.com/2y1zl - Awww, t...</td>\n",
       "    </tr>\n",
       "  </tbody>\n",
       "</table>\n",
       "</div>"
      ],
      "text/plain": [
       "   target          id                          date     query  \\\n",
       "0       0  1467810369  Mon Apr 06 22:19:45 PDT 2009  NO_QUERY   \n",
       "\n",
       "          username                                            content  \n",
       "0  _TheSpecialOne_  @switchfoot http://twitpic.com/2y1zl - Awww, t...  "
      ]
     },
     "execution_count": 4,
     "metadata": {},
     "output_type": "execute_result"
    }
   ],
   "source": [
    "data = data.rename(columns={0: 'target', 1: 'id', 2: 'date', 3: 'query', 4: 'username', 5: 'content'})\n",
    "data.head(1)"
   ]
  },
  {
   "cell_type": "code",
   "execution_count": 5,
   "id": "812ed86e",
   "metadata": {},
   "outputs": [
    {
     "data": {
      "text/html": [
       "<style  type=\"text/css\" >\n",
       "#T_fde3bf9e_b99b_11eb_8319_0242ac110002row0_col0,#T_fde3bf9e_b99b_11eb_8319_0242ac110002row0_col1,#T_fde3bf9e_b99b_11eb_8319_0242ac110002row1_col0,#T_fde3bf9e_b99b_11eb_8319_0242ac110002row1_col1,#T_fde3bf9e_b99b_11eb_8319_0242ac110002row2_col0,#T_fde3bf9e_b99b_11eb_8319_0242ac110002row2_col1,#T_fde3bf9e_b99b_11eb_8319_0242ac110002row3_col0,#T_fde3bf9e_b99b_11eb_8319_0242ac110002row3_col1,#T_fde3bf9e_b99b_11eb_8319_0242ac110002row4_col0,#T_fde3bf9e_b99b_11eb_8319_0242ac110002row4_col1,#T_fde3bf9e_b99b_11eb_8319_0242ac110002row5_col0,#T_fde3bf9e_b99b_11eb_8319_0242ac110002row5_col1{\n",
       "            background-color:  #fff7fb;\n",
       "            color:  #000000;\n",
       "        }</style><table id=\"T_fde3bf9e_b99b_11eb_8319_0242ac110002\" ><thead>    <tr>        <th class=\"blank level0\" ></th>        <th class=\"col_heading level0 col0\" >Missing values</th>        <th class=\"col_heading level0 col1\" >Percentage</th>    </tr></thead><tbody>\n",
       "                <tr>\n",
       "                        <th id=\"T_fde3bf9e_b99b_11eb_8319_0242ac110002level0_row0\" class=\"row_heading level0 row0\" >content</th>\n",
       "                        <td id=\"T_fde3bf9e_b99b_11eb_8319_0242ac110002row0_col0\" class=\"data row0 col0\" >0</td>\n",
       "                        <td id=\"T_fde3bf9e_b99b_11eb_8319_0242ac110002row0_col1\" class=\"data row0 col1\" >0.000000</td>\n",
       "            </tr>\n",
       "            <tr>\n",
       "                        <th id=\"T_fde3bf9e_b99b_11eb_8319_0242ac110002level0_row1\" class=\"row_heading level0 row1\" >username</th>\n",
       "                        <td id=\"T_fde3bf9e_b99b_11eb_8319_0242ac110002row1_col0\" class=\"data row1 col0\" >0</td>\n",
       "                        <td id=\"T_fde3bf9e_b99b_11eb_8319_0242ac110002row1_col1\" class=\"data row1 col1\" >0.000000</td>\n",
       "            </tr>\n",
       "            <tr>\n",
       "                        <th id=\"T_fde3bf9e_b99b_11eb_8319_0242ac110002level0_row2\" class=\"row_heading level0 row2\" >query</th>\n",
       "                        <td id=\"T_fde3bf9e_b99b_11eb_8319_0242ac110002row2_col0\" class=\"data row2 col0\" >0</td>\n",
       "                        <td id=\"T_fde3bf9e_b99b_11eb_8319_0242ac110002row2_col1\" class=\"data row2 col1\" >0.000000</td>\n",
       "            </tr>\n",
       "            <tr>\n",
       "                        <th id=\"T_fde3bf9e_b99b_11eb_8319_0242ac110002level0_row3\" class=\"row_heading level0 row3\" >date</th>\n",
       "                        <td id=\"T_fde3bf9e_b99b_11eb_8319_0242ac110002row3_col0\" class=\"data row3 col0\" >0</td>\n",
       "                        <td id=\"T_fde3bf9e_b99b_11eb_8319_0242ac110002row3_col1\" class=\"data row3 col1\" >0.000000</td>\n",
       "            </tr>\n",
       "            <tr>\n",
       "                        <th id=\"T_fde3bf9e_b99b_11eb_8319_0242ac110002level0_row4\" class=\"row_heading level0 row4\" >id</th>\n",
       "                        <td id=\"T_fde3bf9e_b99b_11eb_8319_0242ac110002row4_col0\" class=\"data row4 col0\" >0</td>\n",
       "                        <td id=\"T_fde3bf9e_b99b_11eb_8319_0242ac110002row4_col1\" class=\"data row4 col1\" >0.000000</td>\n",
       "            </tr>\n",
       "            <tr>\n",
       "                        <th id=\"T_fde3bf9e_b99b_11eb_8319_0242ac110002level0_row5\" class=\"row_heading level0 row5\" >target</th>\n",
       "                        <td id=\"T_fde3bf9e_b99b_11eb_8319_0242ac110002row5_col0\" class=\"data row5 col0\" >0</td>\n",
       "                        <td id=\"T_fde3bf9e_b99b_11eb_8319_0242ac110002row5_col1\" class=\"data row5 col1\" >0.000000</td>\n",
       "            </tr>\n",
       "    </tbody></table>"
      ],
      "text/plain": [
       "<pandas.io.formats.style.Styler at 0x7f66abf08c50>"
      ]
     },
     "execution_count": 5,
     "metadata": {},
     "output_type": "execute_result"
    }
   ],
   "source": [
    "#Busco datos que falten en el dataset\n",
    "missing_data = data.isna().sum().sort_values(ascending=False)\n",
    "percentage_missing = round((data.isnull().sum()/data.isnull().count()).sort_values(ascending=False)*100,2)\n",
    "missing_info = pd.concat([missing_data,percentage_missing],keys=['Missing values','Percentage'],axis=1)\n",
    "missing_info.style.background_gradient()"
   ]
  },
  {
   "cell_type": "code",
   "execution_count": 6,
   "id": "ed66e25a",
   "metadata": {},
   "outputs": [
    {
     "data": {
      "text/plain": [
       "Negative    25000\n",
       "Positive    25000\n",
       "Name: target, dtype: int64"
      ]
     },
     "execution_count": 6,
     "metadata": {},
     "output_type": "execute_result"
    }
   ],
   "source": [
    "# El dataset esta divido al 50% con la misma cantidad de apariciones de comentarios negativos como positivos\n",
    "data['target'] = data['target'].replace([0, 4],['Negative','Positive'])\n",
    "data['target'].value_counts()"
   ]
  },
  {
   "cell_type": "code",
   "execution_count": 7,
   "id": "d493455c",
   "metadata": {},
   "outputs": [
    {
     "data": {
      "image/png": "[encoded data removed]",
      "text/plain": [
       "<Figure size 1008x504 with 2 Axes>"
      ]
     },
     "metadata": {
      "needs_background": "light"
     },
     "output_type": "display_data"
    }
   ],
   "source": [
    "data['length'] = data.content.str.split().apply(len)\n",
    "\n",
    "fig = plt.figure(figsize=(14,7))\n",
    "\n",
    "ax1 = fig.add_subplot(122)\n",
    "sns.histplot(data['length'], ax=ax1,color='black')\n",
    "describe = data.length.describe().to_frame().round(2)\n",
    "\n",
    "ax2 = fig.add_subplot(121)\n",
    "ax2.axis('off')\n",
    "font_size = 14\n",
    "bbox = [0, 0, 1, 1]\n",
    "table = ax2.table(cellText = describe.values, rowLabels = describe.index, bbox=bbox, colLabels=describe.columns)\n",
    "table.set_fontsize(font_size)\n",
    "fig.suptitle('Distribution of text length for sentiment tweets.', fontsize=16)\n",
    "\n",
    "plt.show()"
   ]
  },
  {
   "cell_type": "code",
   "execution_count": 8,
   "id": "a507b489",
   "metadata": {},
   "outputs": [
    {
     "data": {
      "text/html": [
       "<div>\n",
       "<style scoped>\n",
       "    .dataframe tbody tr th:only-of-type {\n",
       "        vertical-align: middle;\n",
       "    }\n",
       "\n",
       "    .dataframe tbody tr th {\n",
       "        vertical-align: top;\n",
       "    }\n",
       "\n",
       "    .dataframe thead th {\n",
       "        text-align: right;\n",
       "    }\n",
       "</style>\n",
       "<table border=\"1\" class=\"dataframe\">\n",
       "  <thead>\n",
       "    <tr style=\"text-align: right;\">\n",
       "      <th></th>\n",
       "      <th>target</th>\n",
       "      <th>content</th>\n",
       "    </tr>\n",
       "  </thead>\n",
       "  <tbody>\n",
       "    <tr>\n",
       "      <th>0</th>\n",
       "      <td>0</td>\n",
       "      <td>@switchfoot http://twitpic.com/2y1zl - Awww, t...</td>\n",
       "    </tr>\n",
       "    <tr>\n",
       "      <th>1</th>\n",
       "      <td>0</td>\n",
       "      <td>is upset that he can't update his Facebook by ...</td>\n",
       "    </tr>\n",
       "    <tr>\n",
       "      <th>2</th>\n",
       "      <td>0</td>\n",
       "      <td>@Kenichan I dived many times for the ball. Man...</td>\n",
       "    </tr>\n",
       "    <tr>\n",
       "      <th>3</th>\n",
       "      <td>0</td>\n",
       "      <td>my whole body feels itchy and like its on fire</td>\n",
       "    </tr>\n",
       "    <tr>\n",
       "      <th>4</th>\n",
       "      <td>0</td>\n",
       "      <td>@nationwideclass no, it's not behaving at all....</td>\n",
       "    </tr>\n",
       "  </tbody>\n",
       "</table>\n",
       "</div>"
      ],
      "text/plain": [
       "   target                                            content\n",
       "0       0  @switchfoot http://twitpic.com/2y1zl - Awww, t...\n",
       "1       0  is upset that he can't update his Facebook by ...\n",
       "2       0  @Kenichan I dived many times for the ball. Man...\n",
       "3       0    my whole body feels itchy and like its on fire \n",
       "4       0  @nationwideclass no, it's not behaving at all...."
      ]
     },
     "execution_count": 8,
     "metadata": {},
     "output_type": "execute_result"
    }
   ],
   "source": [
    "data.drop(['id','date','query','username','length'], axis=1, inplace=True)\n",
    "data.target = data.target.replace({'Positive': 1, 'Negative': 0})\n",
    "data.head()"
   ]
  },
  {
   "cell_type": "code",
   "execution_count": 9,
   "id": "3c55331e",
   "metadata": {},
   "outputs": [],
   "source": [
    "def clean_tweet(tweet):\n",
    "        '''\n",
    "        Utility function to clean tweet text by removing links, special characters\n",
    "        using simple regex statements.\n",
    "        '''\n",
    "        tweet = ' '.join(re.sub(\"(@[A-Za-z0-9]+)|([^0-9A-Za-z \\t])|(\\w+:\\/\\/\\S+)\", \" \", tweet).split()).lower()\n",
    "        tokens = []\n",
    "        for x in tweet.split():\n",
    "            if x not in english_stopwords:\n",
    "                tokens.append(stemmer.stem(x))\n",
    "            \n",
    "        return \" \".join(tokens)"
   ]
  },
  {
   "cell_type": "code",
   "execution_count": 10,
   "id": "6bde05e2",
   "metadata": {},
   "outputs": [
    {
     "data": {
      "text/html": [
       "<div>\n",
       "<style scoped>\n",
       "    .dataframe tbody tr th:only-of-type {\n",
       "        vertical-align: middle;\n",
       "    }\n",
       "\n",
       "    .dataframe tbody tr th {\n",
       "        vertical-align: top;\n",
       "    }\n",
       "\n",
       "    .dataframe thead th {\n",
       "        text-align: right;\n",
       "    }\n",
       "</style>\n",
       "<table border=\"1\" class=\"dataframe\">\n",
       "  <thead>\n",
       "    <tr style=\"text-align: right;\">\n",
       "      <th></th>\n",
       "      <th>target</th>\n",
       "      <th>content</th>\n",
       "    </tr>\n",
       "  </thead>\n",
       "  <tbody>\n",
       "    <tr>\n",
       "      <th>0</th>\n",
       "      <td>0</td>\n",
       "      <td>awww bummer shoulda got david carr third day</td>\n",
       "    </tr>\n",
       "    <tr>\n",
       "      <th>1</th>\n",
       "      <td>0</td>\n",
       "      <td>upset updat facebook text might cri result sch...</td>\n",
       "    </tr>\n",
       "    <tr>\n",
       "      <th>2</th>\n",
       "      <td>0</td>\n",
       "      <td>dive mani time ball manag save 50 rest go bound</td>\n",
       "    </tr>\n",
       "    <tr>\n",
       "      <th>3</th>\n",
       "      <td>0</td>\n",
       "      <td>whole bodi feel itchi like fire</td>\n",
       "    </tr>\n",
       "    <tr>\n",
       "      <th>4</th>\n",
       "      <td>0</td>\n",
       "      <td>behav mad see</td>\n",
       "    </tr>\n",
       "  </tbody>\n",
       "</table>\n",
       "</div>"
      ],
      "text/plain": [
       "   target                                            content\n",
       "0       0       awww bummer shoulda got david carr third day\n",
       "1       0  upset updat facebook text might cri result sch...\n",
       "2       0    dive mani time ball manag save 50 rest go bound\n",
       "3       0                    whole bodi feel itchi like fire\n",
       "4       0                                      behav mad see"
      ]
     },
     "execution_count": 10,
     "metadata": {},
     "output_type": "execute_result"
    }
   ],
   "source": [
    "# Estandarizado : Limpio los datos evitando asi enlaces o caracteres no deseados y poniendo todo el texto en minuscula\n",
    "# Stemming : Reduzco palabras compuestas a su base para quedarnos solo con la intencion. Running -> Run (Mejor que\n",
    "# el lemmatization)\n",
    "\n",
    "data.content = data.content.apply(lambda x: clean_tweet(x))\n",
    "data.head()"
   ]
  },
  {
   "cell_type": "code",
   "execution_count": 11,
   "id": "847d64d2",
   "metadata": {},
   "outputs": [
    {
     "name": "stdout",
     "output_type": "stream",
     "text": [
      "Tamaño entrenamiento  40000\n",
      "Tamaño entrenamiento  10000\n",
      "Content [b'back later mayb dont know juic still think im screw tomorrow day 1 hide aha never find never']\n",
      "Target [1]\n",
      "Content [b'go get em cool let know busi save world hang']\n",
      "Target [1]\n",
      "Content [b'sunday toast ff bed b4 anoth week boredroom']\n",
      "Target [0]\n",
      "Content [b'still got coffe done help']\n",
      "Target [0]\n",
      "Content [b'mayb meant say']\n",
      "Target [1]\n"
     ]
    }
   ],
   "source": [
    "# Creamos y mezclamos el dataset\n",
    "\n",
    "dataset = tf.data.Dataset.from_tensor_slices((data['content'].values, data['target'].values))\n",
    "dataset = dataset.shuffle(len(data)).batch(1)\n",
    "\n",
    "# Divido un 80% para entrenamiento y 20% para test. \n",
    "\n",
    "dataset_train = dataset.take(int(0.8 * len(data.values)))\n",
    "dataset_test = dataset.skip(int(0.8 * len(data.values)))\n",
    "\n",
    "print('Tamaño entrenamiento ', len(dataset_train))\n",
    "print('Tamaño entrenamiento ', len(dataset_test))\n",
    "\n",
    "for txt, value in dataset_train.take(5):\n",
    "    print(\"Content\", txt.numpy())\n",
    "    print(\"Target\", value.numpy())"
   ]
  },
  {
   "cell_type": "code",
   "execution_count": 12,
   "id": "f3172a5f",
   "metadata": {},
   "outputs": [],
   "source": [
    "# Vectorizado de los datos \n",
    "# Tamaño maximo de un tweet en palabras : 50 (Obtenido de los resultados medios de graficos anteriores)\n",
    "\n",
    "sequence_length = 50 \n",
    "\n",
    "vectorize_layer = TextVectorization(\n",
    "    output_mode='int',\n",
    "    output_sequence_length=sequence_length)\n",
    "\n",
    "# Nos quedamos solo con el texto y los vectorizamos\n",
    "train_text = dataset_train.map(lambda x, y: x)\n",
    "vectorize_layer.adapt(train_text)"
   ]
  },
  {
   "cell_type": "code",
   "execution_count": 13,
   "id": "cc8235fe",
   "metadata": {},
   "outputs": [
    {
     "name": "stdout",
     "output_type": "stream",
     "text": [
      "Review tf.Tensor(b'biolif class choreograph recit routin clean fun day least babe come home tonight lt 33', shape=(), dtype=string)\n",
      "Vectorized review (<tf.Tensor: shape=(1, 50), dtype=int64, numpy=\n",
      "array([[23406,   207, 22483,  6376,  3110,   253,    64,     4,   259,\n",
      "          832,    41,    39,    75,    90,  1959,     0,     0,     0,\n",
      "            0,     0,     0,     0,     0,     0,     0,     0,     0,\n",
      "            0,     0,     0,     0,     0,     0,     0,     0,     0,\n",
      "            0,     0,     0,     0,     0,     0,     0,     0,     0,\n",
      "            0,     0,     0,     0,     0]])>, <tf.Tensor: shape=(), dtype=int64, numpy=0>)\n"
     ]
    }
   ],
   "source": [
    "# Vectorizamos y mostramos uno de los comentarios del dataset de entrenamiento\n",
    "\n",
    "def vectorize_text(text, label):\n",
    "  text = tf.expand_dims(text, -1)\n",
    "  return vectorize_layer(text), label\n",
    "\n",
    "text_batch, label_batch = next(iter(dataset_train))\n",
    "first_review, first_label = text_batch[0], label_batch[0]\n",
    "print(\"Review\", first_review)\n",
    "print(\"Vectorized review\",  vectorize_text(first_review, first_label))"
   ]
  },
  {
   "cell_type": "code",
   "execution_count": 14,
   "id": "25b982a6",
   "metadata": {},
   "outputs": [
    {
     "name": "stdout",
     "output_type": "stream",
     "text": [
      "254 --->  anyth\n",
      "1613 --->  peek\n",
      "Vocabulary size: 25189\n"
     ]
    }
   ],
   "source": [
    "print(\"254 ---> \",vectorize_layer.get_vocabulary()[254])\n",
    "print(\"1613 ---> \",vectorize_layer.get_vocabulary()[1613])\n",
    "print('Vocabulary size: {}'.format(len(vectorize_layer.get_vocabulary())))"
   ]
  },
  {
   "cell_type": "code",
   "execution_count": 15,
   "id": "07a642ca",
   "metadata": {},
   "outputs": [
    {
     "data": {
      "text/plain": [
       "['', '[UNK]', 'go', 'get', 'day', 'work', 'good', 'today', 'like', 'love']"
      ]
     },
     "execution_count": 15,
     "metadata": {},
     "output_type": "execute_result"
    }
   ],
   "source": [
    "vectorize_layer.get_vocabulary()[:10]"
   ]
  },
  {
   "cell_type": "code",
   "execution_count": 16,
   "id": "e16683ef",
   "metadata": {},
   "outputs": [],
   "source": [
    "# Vectorizamos el dataset de entrenamiento y test en base\n",
    "# al modelo de vectorizacion creado anteriormente y mediante a la funcion que lo utiliza\n",
    "\n",
    "train_ds = dataset_train.map(vectorize_text)\n",
    "test_ds = dataset_test.map(vectorize_text)"
   ]
  },
  {
   "cell_type": "code",
   "execution_count": 17,
   "id": "33b3882a",
   "metadata": {},
   "outputs": [],
   "source": [
    "# Guardado de datos en cache para facilitar el aprendizaje del modelo\n",
    "\n",
    "AUTOTUNE = tf.data.AUTOTUNE\n",
    "\n",
    "train_ds = train_ds.cache().prefetch(buffer_size=AUTOTUNE)\n",
    "test_ds = test_ds.cache().prefetch(buffer_size=AUTOTUNE)"
   ]
  },
  {
   "cell_type": "code",
   "execution_count": 19,
   "id": "ca90d4cf",
   "metadata": {},
   "outputs": [
    {
     "name": "stdout",
     "output_type": "stream",
     "text": [
      "Model: \"sequential\"\n",
      "_________________________________________________________________\n",
      "Layer (type)                 Output Shape              Param #   \n",
      "=================================================================\n",
      "embedding (Embedding)        (None, None, 64)          1612160   \n",
      "_________________________________________________________________\n",
      "bidirectional (Bidirectional (None, 128)               66048     \n",
      "_________________________________________________________________\n",
      "dense (Dense)                (None, 64)                8256      \n",
      "_________________________________________________________________\n",
      "dense_1 (Dense)              (None, 1)                 65        \n",
      "=================================================================\n",
      "Total params: 1,686,529\n",
      "Trainable params: 1,686,529\n",
      "Non-trainable params: 0\n",
      "_________________________________________________________________\n"
     ]
    }
   ],
   "source": [
    "model1 = tf.keras.Sequential([\n",
    "    tf.keras.layers.Embedding(len(vectorize_layer.get_vocabulary()) + 1,output_dim=64,mask_zero=True),\n",
    "    tf.keras.layers.Bidirectional(tf.keras.layers.LSTM(64)),\n",
    "    tf.keras.layers.Dense(64, activation='relu'),\n",
    "    tf.keras.layers.Dense(1)\n",
    "])\n",
    "\n",
    "model1.compile(loss=tf.keras.losses.BinaryCrossentropy(from_logits=True),\n",
    "               optimizer='adam',\n",
    "               metrics=tf.metrics.BinaryAccuracy(threshold=0.0))\n",
    "\n",
    "model1.summary()"
   ]
  },
  {
   "cell_type": "code",
   "execution_count": 21,
   "id": "f2db4f3c",
   "metadata": {},
   "outputs": [
    {
     "name": "stdout",
     "output_type": "stream",
     "text": [
      "Epoch 1/10\n",
      "40000/40000 [==============================] - 1241s 31ms/step - loss: 0.5285 - binary_accuracy: 0.7349 - val_loss: 0.4632 - val_binary_accuracy: 0.7844\n",
      "Epoch 2/10\n",
      "40000/40000 [==============================] - 10983s 275ms/step - loss: 0.4007 - binary_accuracy: 0.8199 - val_loss: 0.3703 - val_binary_accuracy: 0.8358\n",
      "Epoch 3/10\n",
      "40000/40000 [==============================] - 16067s 402ms/step - loss: 0.2983 - binary_accuracy: 0.8729 - val_loss: 0.3829 - val_binary_accuracy: 0.8429\n",
      "Epoch 4/10\n",
      "40000/40000 [==============================] - 1339s 33ms/step - loss: 0.2151 - binary_accuracy: 0.9104 - val_loss: 0.3953 - val_binary_accuracy: 0.8533\n",
      "Epoch 5/10\n",
      "40000/40000 [==============================] - 1338s 33ms/step - loss: 0.1531 - binary_accuracy: 0.9375 - val_loss: 0.4513 - val_binary_accuracy: 0.8568\n",
      "Epoch 6/10\n",
      "40000/40000 [==============================] - 1336s 33ms/step - loss: 0.1122 - binary_accuracy: 0.9542 - val_loss: 0.5210 - val_binary_accuracy: 0.8535\n",
      "Epoch 7/10\n",
      "40000/40000 [==============================] - 1375s 34ms/step - loss: 0.0849 - binary_accuracy: 0.9659 - val_loss: 0.5254 - val_binary_accuracy: 0.8727\n",
      "Epoch 8/10\n",
      "40000/40000 [==============================] - 1322s 33ms/step - loss: 0.0687 - binary_accuracy: 0.9719 - val_loss: 0.5723 - val_binary_accuracy: 0.8772\n",
      "Epoch 9/10\n",
      "40000/40000 [==============================] - 1297s 32ms/step - loss: 0.0596 - binary_accuracy: 0.9760 - val_loss: 0.5388 - val_binary_accuracy: 0.8772\n",
      "Epoch 10/10\n",
      "40000/40000 [==============================] - 1279s 32ms/step - loss: 0.0507 - binary_accuracy: 0.9800 - val_loss: 0.5658 - val_binary_accuracy: 0.8896\n",
      "CPU times: user 8h 46min 30s, sys: 56min 12s, total: 9h 42min 42s\n",
      "Wall time: 10h 26min 21s\n"
     ]
    }
   ],
   "source": [
    "%%time\n",
    "\n",
    "history1 = model1.fit(train_ds, epochs=10,\n",
    "                    validation_data=test_ds)\n",
    "\n",
    "model1.save('my_model1.h5')  # creates a HDF5 file 'my_model.h5'"
   ]
  },
  {
   "cell_type": "code",
   "execution_count": 22,
   "id": "c093bb95",
   "metadata": {},
   "outputs": [
    {
     "name": "stdout",
     "output_type": "stream",
     "text": [
      "Model: \"sequential_1\"\n",
      "_________________________________________________________________\n",
      "Layer (type)                 Output Shape              Param #   \n",
      "=================================================================\n",
      "embedding_1 (Embedding)      (None, None, 64)          1612160   \n",
      "_________________________________________________________________\n",
      "bidirectional_1 (Bidirection (None, None, 256)         197632    \n",
      "_________________________________________________________________\n",
      "dropout (Dropout)            (None, None, 256)         0         \n",
      "_________________________________________________________________\n",
      "bidirectional_2 (Bidirection (None, 128)               164352    \n",
      "_________________________________________________________________\n",
      "dropout_1 (Dropout)          (None, 128)               0         \n",
      "_________________________________________________________________\n",
      "dense_2 (Dense)              (None, 64)                8256      \n",
      "_________________________________________________________________\n",
      "dense_3 (Dense)              (None, 1)                 65        \n",
      "=================================================================\n",
      "Total params: 1,982,465\n",
      "Trainable params: 1,982,465\n",
      "Non-trainable params: 0\n",
      "_________________________________________________________________\n"
     ]
    }
   ],
   "source": [
    "model2 = tf.keras.Sequential([\n",
    "        tf.keras.layers.Embedding(len(vectorize_layer.get_vocabulary()) + 1,output_dim=64,mask_zero=True),\n",
    "        tf.keras.layers.Bidirectional(tf.keras.layers.LSTM(128, return_sequences=True)),\n",
    "        tf.keras.layers.Dropout(0.3),\n",
    "        tf.keras.layers.Bidirectional(tf.keras.layers.LSTM(64)),\n",
    "        tf.keras.layers.Dropout(0.3),\n",
    "        tf.keras.layers.Dense(64, activation='relu'),\n",
    "        tf.keras.layers.Dense(1),\n",
    "    ])\n",
    "\n",
    "model2.compile(loss=tf.keras.losses.BinaryCrossentropy(from_logits=True),\n",
    "              optimizer='adam',\n",
    "              metrics=tf.metrics.BinaryAccuracy(threshold=0.0))\n",
    "model2.summary()"
   ]
  },
  {
   "cell_type": "code",
   "execution_count": 23,
   "id": "25dc96db",
   "metadata": {},
   "outputs": [
    {
     "name": "stdout",
     "output_type": "stream",
     "text": [
      "Epoch 1/10\n",
      "40000/40000 [==============================] - 2470s 62ms/step - loss: 0.5410 - binary_accuracy: 0.7289 - val_loss: 0.4673 - val_binary_accuracy: 0.7769\n",
      "Epoch 2/10\n",
      "40000/40000 [==============================] - 2397s 60ms/step - loss: 0.4259 - binary_accuracy: 0.8078 - val_loss: 0.3842 - val_binary_accuracy: 0.8317\n",
      "Epoch 3/10\n",
      "40000/40000 [==============================] - 2382s 60ms/step - loss: 0.3466 - binary_accuracy: 0.8529 - val_loss: 0.3496 - val_binary_accuracy: 0.8494\n",
      "Epoch 4/10\n",
      "40000/40000 [==============================] - 2413s 60ms/step - loss: 0.2838 - binary_accuracy: 0.8820 - val_loss: 0.3559 - val_binary_accuracy: 0.8565\n",
      "Epoch 5/10\n",
      "40000/40000 [==============================] - 2438s 61ms/step - loss: 0.2384 - binary_accuracy: 0.9011 - val_loss: 0.3806 - val_binary_accuracy: 0.8637\n",
      "Epoch 6/10\n",
      "40000/40000 [==============================] - 2402s 60ms/step - loss: 0.2090 - binary_accuracy: 0.9151 - val_loss: 0.3702 - val_binary_accuracy: 0.8611\n",
      "Epoch 7/10\n",
      "40000/40000 [==============================] - 2367s 59ms/step - loss: 0.1882 - binary_accuracy: 0.9255 - val_loss: 0.3615 - val_binary_accuracy: 0.8779\n",
      "Epoch 8/10\n",
      "40000/40000 [==============================] - 2372s 59ms/step - loss: 0.1683 - binary_accuracy: 0.9324 - val_loss: 0.3859 - val_binary_accuracy: 0.8841\n",
      "Epoch 9/10\n",
      "40000/40000 [==============================] - 2390s 60ms/step - loss: 0.1542 - binary_accuracy: 0.9373 - val_loss: 0.4074 - val_binary_accuracy: 0.8785\n",
      "Epoch 10/10\n",
      "40000/40000 [==============================] - 2381s 60ms/step - loss: 0.1451 - binary_accuracy: 0.9421 - val_loss: 0.3602 - val_binary_accuracy: 0.8889\n",
      "CPU times: user 15h 14min, sys: 1h 40min 21s, total: 16h 54min 22s\n",
      "Wall time: 6h 40min 22s\n"
     ]
    }
   ],
   "source": [
    "%%time\n",
    "\n",
    "history2 = model2.fit(train_ds,\n",
    "                     epochs=10, \n",
    "                     validation_data=test_ds)\n",
    "\n",
    "model2.save('my_model2.h5')  # creates a HDF5 file 'my_model.h5'"
   ]
  },
  {
   "cell_type": "code",
   "execution_count": 18,
   "id": "cf28eb79",
   "metadata": {},
   "outputs": [],
   "source": [
    "model1 = load_model('generated_models/my_model1.h5')\n",
    "model2 = load_model('generated_models/my_model2.h5')"
   ]
  },
  {
   "cell_type": "code",
   "execution_count": 19,
   "metadata": {},
   "outputs": [],
   "source": [
    "def plot_graphs(history, metric):\n",
    "  plt.plot(history.history[metric])\n",
    "  plt.plot(history.history['val_'+metric], '')\n",
    "  plt.xlabel(\"Epochs\")\n",
    "  plt.ylabel(metric)\n",
    "  plt.legend([metric, 'val_'+metric])"
   ]
  },
  {
   "cell_type": "code",
   "execution_count": 34,
   "id": "c6e4bc19",
   "metadata": {},
   "outputs": [
    {
     "name": "stdout",
     "output_type": "stream",
     "text": [
      "10000/10000 [==============================] - 61s 6ms/step - loss: 0.5658 - binary_accuracy: 0.8896\n",
      "Loss:  0.5657927989959717\n",
      "Accuracy:  0.8895999789237976\n"
     ]
    },
    {
     "data": {
      "text/plain": [
       "(0.0, 0.5983624041080475)"
      ]
     },
     "execution_count": 34,
     "metadata": {},
     "output_type": "execute_result"
    },
    {
     "data": {
      "image/png": "[encoded data removed]",
      "text/plain": [
       "<Figure size 1152x576 with 2 Axes>"
      ]
     },
     "metadata": {
      "needs_background": "light"
     },
     "output_type": "display_data"
    }
   ],
   "source": [
    "loss, accuracy = model1.evaluate(test_ds)\n",
    "\n",
    "print(\"Loss: \", loss)\n",
    "print(\"Accuracy: \", accuracy)\n",
    "\n",
    "plt.figure(figsize=(16, 8))\n",
    "plt.subplot(1, 2, 1)\n",
    "plot_graphs(history1, 'binary_accuracy')\n",
    "plt.ylim(None, 1)\n",
    "plt.subplot(1, 2, 2)\n",
    "plot_graphs(history1, 'loss')\n",
    "plt.ylim(0, None)"
   ]
  },
  {
   "cell_type": "code",
   "execution_count": 35,
   "metadata": {},
   "outputs": [
    {
     "name": "stdout",
     "output_type": "stream",
     "text": [
      "10000/10000 [==============================] - 117s 12ms/step - loss: 0.3602 - binary_accuracy: 0.8889\n",
      "Loss:  0.3602001368999481\n",
      "Accuracy:  0.8888999819755554\n"
     ]
    },
    {
     "data": {
      "text/plain": [
       "(0.0, 0.5608066976070404)"
      ]
     },
     "execution_count": 35,
     "metadata": {},
     "output_type": "execute_result"
    },
    {
     "data": {
      "image/png": "[encoded data removed]",
      "text/plain": [
       "<Figure size 1152x576 with 2 Axes>"
      ]
     },
     "metadata": {
      "needs_background": "light"
     },
     "output_type": "display_data"
    }
   ],
   "source": [
    "loss, accuracy = model2.evaluate(test_ds)\n",
    "\n",
    "print(\"Loss: \", loss)\n",
    "print(\"Accuracy: \", accuracy)\n",
    "\n",
    "plt.figure(figsize=(16, 8))\n",
    "plt.subplot(1, 2, 1)\n",
    "plot_graphs(history2, 'binary_accuracy')\n",
    "plt.ylim(None, 1)\n",
    "plt.subplot(1, 2, 2)\n",
    "plot_graphs(history2, 'loss')\n",
    "plt.ylim(0, None)"
   ]
  },
  {
   "cell_type": "code",
   "execution_count": 24,
   "id": "290c9960",
   "metadata": {},
   "outputs": [
    {
     "name": "stdout",
     "output_type": "stream",
     "text": [
      "10000/10000 [==============================] - 64s 6ms/step - loss: 0.5658 - accuracy: 0.8896\n",
      "Loss:  0.5657927989959717\n",
      "Accuracy:  0.8895999789237976\n"
     ]
    }
   ],
   "source": [
    "export_model = tf.keras.Sequential([\n",
    "  vectorize_layer,\n",
    "  model1,\n",
    "  tf.keras.layers.Activation('sigmoid')\n",
    "])\n",
    "\n",
    "export_model.compile(\n",
    "    loss=tf.keras.losses.BinaryCrossentropy(from_logits=False), optimizer=\"adam\", metrics=['accuracy']\n",
    ")\n",
    "\n",
    "# Utilizamos la funcion de evaluado directamente con el texto\n",
    "loss, accuracy = export_model.evaluate(dataset_test)\n",
    "print(\"Loss: \", loss)\n",
    "print(\"Accuracy: \", accuracy)"
   ]
  },
  {
   "cell_type": "code",
   "execution_count": 25,
   "metadata": {},
   "outputs": [
    {
     "name": "stdout",
     "output_type": "stream",
     "text": [
      "10000/10000 [==============================] - 118s 11ms/step - loss: 0.3701 - accuracy: 0.8844\n",
      "Loss:  0.3700559735298157\n",
      "Accuracy:  0.8844000101089478\n"
     ]
    }
   ],
   "source": [
    "export_model2 = tf.keras.Sequential([\n",
    "  vectorize_layer,\n",
    "  model2,\n",
    "  tf.keras.layers.Activation('sigmoid')\n",
    "])\n",
    "\n",
    "export_model2.compile(\n",
    "    loss=tf.keras.losses.BinaryCrossentropy(from_logits=False), optimizer=\"adam\", metrics=['accuracy']\n",
    ")\n",
    "\n",
    "# Utilizamos la funcion de evaluado directamente con el texto\n",
    "loss, accuracy = export_model2.evaluate(dataset_test)\n",
    "print(\"Loss: \", loss)\n",
    "print(\"Accuracy: \", accuracy)"
   ]
  },
  {
   "cell_type": "code",
   "execution_count": 26,
   "metadata": {},
   "outputs": [
    {
     "name": "stdout",
     "output_type": "stream",
     "text": [
      "Model: \"sequential_2\"\n",
      "_________________________________________________________________\n",
      "Layer (type)                 Output Shape              Param #   \n",
      "=================================================================\n",
      "text_vectorization (TextVect (None, 50)                0         \n",
      "_________________________________________________________________\n",
      "sequential (Sequential)      (None, 1)                 1686529   \n",
      "_________________________________________________________________\n",
      "activation_2 (Activation)    (None, 1)                 0         \n",
      "=================================================================\n",
      "Total params: 1,686,529\n",
      "Trainable params: 1,686,529\n",
      "Non-trainable params: 0\n",
      "_________________________________________________________________\n"
     ]
    }
   ],
   "source": [
    "export_model.summary()"
   ]
  },
  {
   "cell_type": "markdown",
   "id": "92555fcf",
   "metadata": {},
   "source": [
    "# Analisis de sentimientos de personaje público utilizando el modelo creado\n",
    "\n",
    "Utilizando la api de twitter obtenemos los tweets y con el modelo entrenado con anterioridad podemos comprobar con que precision es capaz de obtener los sentimientos de cada uno de los tweets."
   ]
  },
  {
   "cell_type": "code",
   "execution_count": 70,
   "id": "1075a512",
   "metadata": {},
   "outputs": [],
   "source": [
    "## Código de ejemplo (https://www.geeksforgeeks.org/python-api-user_timeline-in-tweepy/)\n",
    "\n",
    "import re\n",
    "import tweepy\n",
    "from tweepy import OAuthHandler\n",
    "from textblob import TextBlob\n",
    "\n",
    "def twitterClient():\n",
    "\n",
    "    # keys and tokens from the Twitter Dev Console\n",
    "    consumer_key = 'QfHzmKICwbmttyZy7zdejcqKl'\n",
    "    consumer_secret = 'aOrUpMfze7ijUSI8DQzHtkHodoVcUgLV2YMx2BSok4sKoKYHGA'\n",
    "    access_token = '625111410-5oZNSPcdo0p1dfbuovFyUq6UCOKe28e2Luh8qSXf'\n",
    "    access_token_secret = 'RgXvLhn52v3YAyXhvVHI6AlHqEeu2kuxaXy320Mw99TnP'\n",
    "\n",
    "    # attempt authentication\n",
    "    try:\n",
    "        # create OAuthHandler object\n",
    "        auth = OAuthHandler(consumer_key, consumer_secret)\n",
    "        # set access token and secret\n",
    "        auth.set_access_token(access_token, access_token_secret)\n",
    "        # create tweepy API object to fetch tweets\n",
    "        api = tweepy.API(auth)\n",
    "    except:\n",
    "        print(\"Error: Authentication Failed\")\n",
    "        \n",
    "    return api\n",
    "\n",
    "def get_tweet_sentiment(tweet):\n",
    "    # create TextBlob object of passed tweet text\n",
    "    analysis = TextBlob(clean_tweet(tweet))\n",
    "    # set sentiment\n",
    "    if analysis.sentiment.polarity > 0:\n",
    "        return 'positive'\n",
    "    elif analysis.sentiment.polarity == 0:\n",
    "        return 'neutral'\n",
    "    else:\n",
    "        return 'negative'\n",
    "    \n",
    "def set_sentiment(value):\n",
    "    if value <= 0.25: \n",
    "        return 'negative'\n",
    "    elif value > 0.25 and value < 0.75:\n",
    "        return 'neutral'\n",
    "    elif value >= 0.75:\n",
    "        return 'positive'\n",
    "    \n",
    "def is_correct(value1, value2):\n",
    "    if value1 == value2 : return 'Correct'\n",
    "    else : return 'Incorrect'"
   ]
  },
  {
   "cell_type": "code",
   "execution_count": 68,
   "id": "9d1032f8",
   "metadata": {},
   "outputs": [
    {
     "name": "stdout",
     "output_type": "stream",
     "text": [
      "How much is that Doge in the window? https://t.co/bxTkWOr50V\n",
      "Tesla Model S Plaid delivery event\n",
      "June 3 at our California factory\n",
      "\n",
      "Fastest production car ever\n",
      "0 to 60mph in under 2 secs\n",
      "Tesla has 💎 🙌\n",
      "Giga Berlin suppliers please accelerate!\n",
      "https://t.co/13m1KHFMjv\n",
      "As always https://t.co/gtFmtokzEZ\n",
      "Working with Doge devs to improve system transaction efficiency. Potentially promising.\n",
      "To be clear, I strongly believe in crypto, but it can’t drive a massive increase in fossil fuel use, especially coal\n",
      "It is high time there was a carbon tax!\n",
      "Tesla &amp; Bitcoin https://t.co/YSswJmVZhP\n",
      "Do you want Tesla to accept Doge?\n",
      "SNL Monologue\n",
      "https://t.co/b2cvFGqVFF\n",
      "Thanks again to @nbcsnl cast, writers &amp; crew! Honor &amp; pleasure to do the show with you.\n",
      "SpaceX launching satellite Doge-1 to the moon next year\n",
      "\n",
      "– Mission paid for in Doge\n",
      "– 1st crypto in space\n",
      "– 1st meme in space\n",
      "\n",
      "To the mooooonnn!!\n",
      "\n",
      "https://t.co/xXfjGZVeUW\n",
      "Wario was my fav haha 👀 \n",
      "https://t.co/TNjn3meLVJ\n",
      "Special link to view SNL outside USA\n",
      "https://t.co/egSDZ8sNFu\n",
      "First time a Falcon rocket booster will reach double digits in flights https://t.co/wrojsaGExZ\n",
      "Cybertruck prototype in New York this weekend\n",
      "Guest starring … https://t.co/buM3bTOWbX\n",
      "https://t.co/DlQtmfjKqL\n"
     ]
    }
   ],
   "source": [
    "api = twitterClient()\n",
    "\n",
    "# Obtengo los ultimo tweets de un personaje publico\n",
    "timeline = api.user_timeline(screen_name='@elonmusk', \n",
    "                             count=100,\n",
    "                             include_rts=False, \n",
    "                             tweet_mode='extended', \n",
    "                             exclude_replies=True)\n",
    "# Iterate and print tweets\n",
    "\n",
    "tweets = [tweet.full_text for tweet in timeline]\n",
    "print(*tweets, sep = \"\\n\")"
   ]
  },
  {
   "cell_type": "code",
   "execution_count": 69,
   "metadata": {},
   "outputs": [
    {
     "data": {
      "text/plain": [
       "array([[9.9980748e-01],\n",
       "       [1.0728867e-05],\n",
       "       [9.7501493e-01],\n",
       "       [9.9317604e-01],\n",
       "       [5.5967760e-01],\n",
       "       [9.2947668e-01],\n",
       "       [7.3732507e-01],\n",
       "       [9.9592406e-01],\n",
       "       [4.4103563e-03],\n",
       "       [7.9047209e-01],\n",
       "       [4.7174522e-01],\n",
       "       [3.9049928e-06],\n",
       "       [4.8020104e-01],\n",
       "       [1.0000000e+00],\n",
       "       [9.7669059e-01],\n",
       "       [6.7451596e-04],\n",
       "       [9.9999899e-01],\n",
       "       [9.9984610e-01],\n",
       "       [5.0615907e-02],\n",
       "       [5.5967766e-01]], dtype=float32)"
      ]
     },
     "execution_count": 69,
     "metadata": {},
     "output_type": "execute_result"
    }
   ],
   "source": [
    "export_model.predict(tweets)"
   ]
  },
  {
   "cell_type": "code",
   "execution_count": 71,
   "metadata": {},
   "outputs": [
    {
     "data": {
      "text/plain": [
       "['positive',\n",
       " 'negative',\n",
       " 'positive',\n",
       " 'positive',\n",
       " 'neutral',\n",
       " 'positive',\n",
       " 'neutral',\n",
       " 'positive',\n",
       " 'negative',\n",
       " 'positive',\n",
       " 'neutral',\n",
       " 'negative',\n",
       " 'neutral',\n",
       " 'positive',\n",
       " 'positive',\n",
       " 'negative',\n",
       " 'positive',\n",
       " 'positive',\n",
       " 'negative',\n",
       " 'neutral']"
      ]
     },
     "execution_count": 71,
     "metadata": {},
     "output_type": "execute_result"
    }
   ],
   "source": [
    "predictions = export_model.predict(tweets)\n",
    "rounded = [float(x) for x in predictions]\n",
    "result = [set_sentiment(x) for x in rounded]\n",
    "result"
   ]
  },
  {
   "cell_type": "code",
   "execution_count": 72,
   "metadata": {},
   "outputs": [
    {
     "data": {
      "text/plain": [
       "['positive',\n",
       " 'positive',\n",
       " 'neutral',\n",
       " 'neutral',\n",
       " 'neutral',\n",
       " 'neutral',\n",
       " 'neutral',\n",
       " 'positive',\n",
       " 'negative',\n",
       " 'positive',\n",
       " 'neutral',\n",
       " 'negative',\n",
       " 'positive',\n",
       " 'positive',\n",
       " 'positive',\n",
       " 'negative',\n",
       " 'positive',\n",
       " 'positive',\n",
       " 'neutral',\n",
       " 'neutral']"
      ]
     },
     "execution_count": 72,
     "metadata": {},
     "output_type": "execute_result"
    }
   ],
   "source": [
    "predictions2 = export_model2.predict(tweets)\n",
    "rounded2 = [float(x) for x in predictions2]\n",
    "result2 = [set_sentiment(x) for x in rounded2]\n",
    "result2"
   ]
  },
  {
   "cell_type": "code",
   "execution_count": 74,
   "metadata": {},
   "outputs": [
    {
     "data": {
      "text/plain": [
       "['positive',\n",
       " 'negative',\n",
       " 'neutral',\n",
       " 'neutral',\n",
       " 'neutral',\n",
       " 'neutral',\n",
       " 'neutral',\n",
       " 'positive',\n",
       " 'positive',\n",
       " 'neutral',\n",
       " 'neutral',\n",
       " 'neutral',\n",
       " 'neutral',\n",
       " 'neutral',\n",
       " 'positive',\n",
       " 'positive',\n",
       " 'positive',\n",
       " 'positive',\n",
       " 'neutral',\n",
       " 'neutral']"
      ]
     },
     "execution_count": 74,
     "metadata": {},
     "output_type": "execute_result"
    }
   ],
   "source": [
    "predictions_text_blob = [get_tweet_sentiment(x) for x in tweets]\n",
    "predictions_text_blob"
   ]
  },
  {
   "cell_type": "code",
   "execution_count": 77,
   "metadata": {},
   "outputs": [
    {
     "data": {
      "text/html": [
       "<div>\n",
       "<style scoped>\n",
       "    .dataframe tbody tr th:only-of-type {\n",
       "        vertical-align: middle;\n",
       "    }\n",
       "\n",
       "    .dataframe tbody tr th {\n",
       "        vertical-align: top;\n",
       "    }\n",
       "\n",
       "    .dataframe thead th {\n",
       "        text-align: right;\n",
       "    }\n",
       "</style>\n",
       "<table border=\"1\" class=\"dataframe\">\n",
       "  <thead>\n",
       "    <tr style=\"text-align: right;\">\n",
       "      <th></th>\n",
       "      <th>Text</th>\n",
       "      <th>Model 1</th>\n",
       "      <th>Model 2</th>\n",
       "      <th>TextBlob</th>\n",
       "      <th>m1 vs textblob</th>\n",
       "      <th>m2 vs textblob</th>\n",
       "    </tr>\n",
       "  </thead>\n",
       "  <tbody>\n",
       "    <tr>\n",
       "      <th>0</th>\n",
       "      <td>How much is that Doge in the window? https://t...</td>\n",
       "      <td>positive</td>\n",
       "      <td>positive</td>\n",
       "      <td>positive</td>\n",
       "      <td>Correct</td>\n",
       "      <td>Correct</td>\n",
       "    </tr>\n",
       "    <tr>\n",
       "      <th>1</th>\n",
       "      <td>Tesla Model S Plaid delivery event\\nJune 3 at ...</td>\n",
       "      <td>negative</td>\n",
       "      <td>positive</td>\n",
       "      <td>negative</td>\n",
       "      <td>Correct</td>\n",
       "      <td>Incorrect</td>\n",
       "    </tr>\n",
       "    <tr>\n",
       "      <th>2</th>\n",
       "      <td>Tesla has 💎 🙌</td>\n",
       "      <td>positive</td>\n",
       "      <td>neutral</td>\n",
       "      <td>neutral</td>\n",
       "      <td>Incorrect</td>\n",
       "      <td>Correct</td>\n",
       "    </tr>\n",
       "    <tr>\n",
       "      <th>3</th>\n",
       "      <td>Giga Berlin suppliers please accelerate!</td>\n",
       "      <td>positive</td>\n",
       "      <td>neutral</td>\n",
       "      <td>neutral</td>\n",
       "      <td>Incorrect</td>\n",
       "      <td>Correct</td>\n",
       "    </tr>\n",
       "    <tr>\n",
       "      <th>4</th>\n",
       "      <td>https://t.co/13m1KHFMjv</td>\n",
       "      <td>neutral</td>\n",
       "      <td>neutral</td>\n",
       "      <td>neutral</td>\n",
       "      <td>Correct</td>\n",
       "      <td>Correct</td>\n",
       "    </tr>\n",
       "    <tr>\n",
       "      <th>5</th>\n",
       "      <td>As always https://t.co/gtFmtokzEZ</td>\n",
       "      <td>positive</td>\n",
       "      <td>neutral</td>\n",
       "      <td>neutral</td>\n",
       "      <td>Incorrect</td>\n",
       "      <td>Correct</td>\n",
       "    </tr>\n",
       "    <tr>\n",
       "      <th>6</th>\n",
       "      <td>Working with Doge devs to improve system trans...</td>\n",
       "      <td>neutral</td>\n",
       "      <td>neutral</td>\n",
       "      <td>neutral</td>\n",
       "      <td>Correct</td>\n",
       "      <td>Correct</td>\n",
       "    </tr>\n",
       "    <tr>\n",
       "      <th>7</th>\n",
       "      <td>To be clear, I strongly believe in crypto, but...</td>\n",
       "      <td>positive</td>\n",
       "      <td>positive</td>\n",
       "      <td>positive</td>\n",
       "      <td>Correct</td>\n",
       "      <td>Correct</td>\n",
       "    </tr>\n",
       "    <tr>\n",
       "      <th>8</th>\n",
       "      <td>It is high time there was a carbon tax!</td>\n",
       "      <td>negative</td>\n",
       "      <td>negative</td>\n",
       "      <td>positive</td>\n",
       "      <td>Incorrect</td>\n",
       "      <td>Incorrect</td>\n",
       "    </tr>\n",
       "    <tr>\n",
       "      <th>9</th>\n",
       "      <td>Tesla &amp;amp; Bitcoin https://t.co/YSswJmVZhP</td>\n",
       "      <td>positive</td>\n",
       "      <td>positive</td>\n",
       "      <td>neutral</td>\n",
       "      <td>Incorrect</td>\n",
       "      <td>Incorrect</td>\n",
       "    </tr>\n",
       "    <tr>\n",
       "      <th>10</th>\n",
       "      <td>Do you want Tesla to accept Doge?</td>\n",
       "      <td>neutral</td>\n",
       "      <td>neutral</td>\n",
       "      <td>neutral</td>\n",
       "      <td>Correct</td>\n",
       "      <td>Correct</td>\n",
       "    </tr>\n",
       "    <tr>\n",
       "      <th>11</th>\n",
       "      <td>SNL Monologue\\nhttps://t.co/b2cvFGqVFF</td>\n",
       "      <td>negative</td>\n",
       "      <td>negative</td>\n",
       "      <td>neutral</td>\n",
       "      <td>Incorrect</td>\n",
       "      <td>Incorrect</td>\n",
       "    </tr>\n",
       "    <tr>\n",
       "      <th>12</th>\n",
       "      <td>Thanks again to @nbcsnl cast, writers &amp;amp; cr...</td>\n",
       "      <td>neutral</td>\n",
       "      <td>positive</td>\n",
       "      <td>neutral</td>\n",
       "      <td>Correct</td>\n",
       "      <td>Incorrect</td>\n",
       "    </tr>\n",
       "    <tr>\n",
       "      <th>13</th>\n",
       "      <td>SpaceX launching satellite Doge-1 to the moon ...</td>\n",
       "      <td>positive</td>\n",
       "      <td>positive</td>\n",
       "      <td>neutral</td>\n",
       "      <td>Incorrect</td>\n",
       "      <td>Incorrect</td>\n",
       "    </tr>\n",
       "    <tr>\n",
       "      <th>14</th>\n",
       "      <td>Wario was my fav haha 👀 \\nhttps://t.co/TNjn3meLVJ</td>\n",
       "      <td>positive</td>\n",
       "      <td>positive</td>\n",
       "      <td>positive</td>\n",
       "      <td>Correct</td>\n",
       "      <td>Correct</td>\n",
       "    </tr>\n",
       "    <tr>\n",
       "      <th>15</th>\n",
       "      <td>Special link to view SNL outside USA\\nhttps://...</td>\n",
       "      <td>negative</td>\n",
       "      <td>negative</td>\n",
       "      <td>positive</td>\n",
       "      <td>Incorrect</td>\n",
       "      <td>Incorrect</td>\n",
       "    </tr>\n",
       "    <tr>\n",
       "      <th>16</th>\n",
       "      <td>First time a Falcon rocket booster will reach ...</td>\n",
       "      <td>positive</td>\n",
       "      <td>positive</td>\n",
       "      <td>positive</td>\n",
       "      <td>Correct</td>\n",
       "      <td>Correct</td>\n",
       "    </tr>\n",
       "    <tr>\n",
       "      <th>17</th>\n",
       "      <td>Cybertruck prototype in New York this weekend</td>\n",
       "      <td>positive</td>\n",
       "      <td>positive</td>\n",
       "      <td>positive</td>\n",
       "      <td>Correct</td>\n",
       "      <td>Correct</td>\n",
       "    </tr>\n",
       "    <tr>\n",
       "      <th>18</th>\n",
       "      <td>Guest starring … https://t.co/buM3bTOWbX</td>\n",
       "      <td>negative</td>\n",
       "      <td>neutral</td>\n",
       "      <td>neutral</td>\n",
       "      <td>Incorrect</td>\n",
       "      <td>Correct</td>\n",
       "    </tr>\n",
       "    <tr>\n",
       "      <th>19</th>\n",
       "      <td>https://t.co/DlQtmfjKqL</td>\n",
       "      <td>neutral</td>\n",
       "      <td>neutral</td>\n",
       "      <td>neutral</td>\n",
       "      <td>Correct</td>\n",
       "      <td>Correct</td>\n",
       "    </tr>\n",
       "  </tbody>\n",
       "</table>\n",
       "</div>"
      ],
      "text/plain": [
       "                                                 Text   Model 1   Model 2  \\\n",
       "0   How much is that Doge in the window? https://t...  positive  positive   \n",
       "1   Tesla Model S Plaid delivery event\\nJune 3 at ...  negative  positive   \n",
       "2                                       Tesla has 💎 🙌  positive   neutral   \n",
       "3            Giga Berlin suppliers please accelerate!  positive   neutral   \n",
       "4                             https://t.co/13m1KHFMjv   neutral   neutral   \n",
       "5                   As always https://t.co/gtFmtokzEZ  positive   neutral   \n",
       "6   Working with Doge devs to improve system trans...   neutral   neutral   \n",
       "7   To be clear, I strongly believe in crypto, but...  positive  positive   \n",
       "8             It is high time there was a carbon tax!  negative  negative   \n",
       "9         Tesla &amp; Bitcoin https://t.co/YSswJmVZhP  positive  positive   \n",
       "10                  Do you want Tesla to accept Doge?   neutral   neutral   \n",
       "11             SNL Monologue\\nhttps://t.co/b2cvFGqVFF  negative  negative   \n",
       "12  Thanks again to @nbcsnl cast, writers &amp; cr...   neutral  positive   \n",
       "13  SpaceX launching satellite Doge-1 to the moon ...  positive  positive   \n",
       "14  Wario was my fav haha 👀 \\nhttps://t.co/TNjn3meLVJ  positive  positive   \n",
       "15  Special link to view SNL outside USA\\nhttps://...  negative  negative   \n",
       "16  First time a Falcon rocket booster will reach ...  positive  positive   \n",
       "17      Cybertruck prototype in New York this weekend  positive  positive   \n",
       "18           Guest starring … https://t.co/buM3bTOWbX  negative   neutral   \n",
       "19                            https://t.co/DlQtmfjKqL   neutral   neutral   \n",
       "\n",
       "    TextBlob m1 vs textblob m2 vs textblob  \n",
       "0   positive        Correct        Correct  \n",
       "1   negative        Correct      Incorrect  \n",
       "2    neutral      Incorrect        Correct  \n",
       "3    neutral      Incorrect        Correct  \n",
       "4    neutral        Correct        Correct  \n",
       "5    neutral      Incorrect        Correct  \n",
       "6    neutral        Correct        Correct  \n",
       "7   positive        Correct        Correct  \n",
       "8   positive      Incorrect      Incorrect  \n",
       "9    neutral      Incorrect      Incorrect  \n",
       "10   neutral        Correct        Correct  \n",
       "11   neutral      Incorrect      Incorrect  \n",
       "12   neutral        Correct      Incorrect  \n",
       "13   neutral      Incorrect      Incorrect  \n",
       "14  positive        Correct        Correct  \n",
       "15  positive      Incorrect      Incorrect  \n",
       "16  positive        Correct        Correct  \n",
       "17  positive        Correct        Correct  \n",
       "18   neutral      Incorrect        Correct  \n",
       "19   neutral        Correct        Correct  "
      ]
     },
     "execution_count": 77,
     "metadata": {},
     "output_type": "execute_result"
    }
   ],
   "source": [
    "x = [tweets, result, result2, predictions_text_blob]\n",
    "final_results = pd.DataFrame(x).transpose().rename(columns={0:'Text',\n",
    "                                                            1:'Model 1',\n",
    "                                                            2:'Model 2',\n",
    "                                                            3:'TextBlob'})\n",
    "final_results['m1 vs textblob'] = final_results.apply(lambda row: \n",
    "                                                     is_correct(row['Model 1'],row['TextBlob']), \n",
    "                                                     axis=1)\n",
    "\n",
    "final_results['m2 vs textblob'] = final_results.apply(lambda row: \n",
    "                                                     is_correct(row['Model 2'],row['TextBlob']), \n",
    "                                                     axis=1)\n",
    "final_results"
   ]
  },
  {
   "cell_type": "code",
   "execution_count": 78,
   "metadata": {},
   "outputs": [
    {
     "data": {
      "text/plain": [
       "Correct      11\n",
       "Incorrect     9\n",
       "Name: m1 vs textblob, dtype: int64"
      ]
     },
     "execution_count": 78,
     "metadata": {},
     "output_type": "execute_result"
    }
   ],
   "source": [
    "final_results['m1 vs textblob'].value_counts()"
   ]
  },
  {
   "cell_type": "code",
   "execution_count": 79,
   "metadata": {},
   "outputs": [
    {
     "data": {
      "text/plain": [
       "Correct      13\n",
       "Incorrect     7\n",
       "Name: m2 vs textblob, dtype: int64"
      ]
     },
     "execution_count": 79,
     "metadata": {},
     "output_type": "execute_result"
    }
   ],
   "source": [
    "final_results['m2 vs textblob'].value_counts()"
   ]
  },
  {
   "cell_type": "markdown",
   "metadata": {},
   "source": [
    "## Recomendación de una pelicula dependiente de su estado de animo en los últimos tweets (https://www.kaggle.com/neha1703/movie-genre-from-its-poster?select=MovieGenre.csv)  "
   ]
  },
  {
   "cell_type": "code",
   "execution_count": 80,
   "metadata": {},
   "outputs": [
    {
     "data": {
      "text/html": [
       "<div>\n",
       "<style scoped>\n",
       "    .dataframe tbody tr th:only-of-type {\n",
       "        vertical-align: middle;\n",
       "    }\n",
       "\n",
       "    .dataframe tbody tr th {\n",
       "        vertical-align: top;\n",
       "    }\n",
       "\n",
       "    .dataframe thead th {\n",
       "        text-align: right;\n",
       "    }\n",
       "</style>\n",
       "<table border=\"1\" class=\"dataframe\">\n",
       "  <thead>\n",
       "    <tr style=\"text-align: right;\">\n",
       "      <th></th>\n",
       "      <th>imdbId</th>\n",
       "      <th>Imdb Link</th>\n",
       "      <th>Title</th>\n",
       "      <th>IMDB Score</th>\n",
       "      <th>Genre</th>\n",
       "      <th>Poster</th>\n",
       "    </tr>\n",
       "  </thead>\n",
       "  <tbody>\n",
       "    <tr>\n",
       "      <th>0</th>\n",
       "      <td>114709</td>\n",
       "      <td>http://www.imdb.com/title/tt114709</td>\n",
       "      <td>Toy Story (1995)</td>\n",
       "      <td>8.3</td>\n",
       "      <td>Animation|Adventure|Comedy</td>\n",
       "      <td>https://images-na.ssl-images-amazon.com/images...</td>\n",
       "    </tr>\n",
       "    <tr>\n",
       "      <th>1</th>\n",
       "      <td>113497</td>\n",
       "      <td>http://www.imdb.com/title/tt113497</td>\n",
       "      <td>Jumanji (1995)</td>\n",
       "      <td>6.9</td>\n",
       "      <td>Action|Adventure|Family</td>\n",
       "      <td>https://images-na.ssl-images-amazon.com/images...</td>\n",
       "    </tr>\n",
       "    <tr>\n",
       "      <th>2</th>\n",
       "      <td>113228</td>\n",
       "      <td>http://www.imdb.com/title/tt113228</td>\n",
       "      <td>Grumpier Old Men (1995)</td>\n",
       "      <td>6.6</td>\n",
       "      <td>Comedy|Romance</td>\n",
       "      <td>https://images-na.ssl-images-amazon.com/images...</td>\n",
       "    </tr>\n",
       "    <tr>\n",
       "      <th>3</th>\n",
       "      <td>114885</td>\n",
       "      <td>http://www.imdb.com/title/tt114885</td>\n",
       "      <td>Waiting to Exhale (1995)</td>\n",
       "      <td>5.7</td>\n",
       "      <td>Comedy|Drama|Romance</td>\n",
       "      <td>https://images-na.ssl-images-amazon.com/images...</td>\n",
       "    </tr>\n",
       "    <tr>\n",
       "      <th>4</th>\n",
       "      <td>113041</td>\n",
       "      <td>http://www.imdb.com/title/tt113041</td>\n",
       "      <td>Father of the Bride Part II (1995)</td>\n",
       "      <td>5.9</td>\n",
       "      <td>Comedy|Family|Romance</td>\n",
       "      <td>https://images-na.ssl-images-amazon.com/images...</td>\n",
       "    </tr>\n",
       "    <tr>\n",
       "      <th>...</th>\n",
       "      <td>...</td>\n",
       "      <td>...</td>\n",
       "      <td>...</td>\n",
       "      <td>...</td>\n",
       "      <td>...</td>\n",
       "      <td>...</td>\n",
       "    </tr>\n",
       "    <tr>\n",
       "      <th>40103</th>\n",
       "      <td>83168</td>\n",
       "      <td>http://www.imdb.com/title/tt83168</td>\n",
       "      <td>Tanya's Island (1980)</td>\n",
       "      <td>4.3</td>\n",
       "      <td>Drama</td>\n",
       "      <td>https://images-na.ssl-images-amazon.com/images...</td>\n",
       "    </tr>\n",
       "    <tr>\n",
       "      <th>40104</th>\n",
       "      <td>82875</td>\n",
       "      <td>http://www.imdb.com/title/tt82875</td>\n",
       "      <td>Pacific Banana (1981)</td>\n",
       "      <td>4.7</td>\n",
       "      <td>Comedy</td>\n",
       "      <td>https://images-na.ssl-images-amazon.com/images...</td>\n",
       "    </tr>\n",
       "    <tr>\n",
       "      <th>40105</th>\n",
       "      <td>815258</td>\n",
       "      <td>http://www.imdb.com/title/tt815258</td>\n",
       "      <td>Werewolf in a Womens Prison (2006)</td>\n",
       "      <td>4.5</td>\n",
       "      <td>Horror</td>\n",
       "      <td>https://images-na.ssl-images-amazon.com/images...</td>\n",
       "    </tr>\n",
       "    <tr>\n",
       "      <th>40106</th>\n",
       "      <td>79142</td>\n",
       "      <td>http://www.imdb.com/title/tt79142</td>\n",
       "      <td>Xiao zi ming da (1979)</td>\n",
       "      <td>6.5</td>\n",
       "      <td>Action|Comedy</td>\n",
       "      <td>https://images-na.ssl-images-amazon.com/images...</td>\n",
       "    </tr>\n",
       "    <tr>\n",
       "      <th>40107</th>\n",
       "      <td>70710</td>\n",
       "      <td>http://www.imdb.com/title/tt70710</td>\n",
       "      <td>Snatched (1973)</td>\n",
       "      <td>6.5</td>\n",
       "      <td>Crime|Drama|Thriller</td>\n",
       "      <td>NaN</td>\n",
       "    </tr>\n",
       "  </tbody>\n",
       "</table>\n",
       "<p>40108 rows × 6 columns</p>\n",
       "</div>"
      ],
      "text/plain": [
       "       imdbId                           Imdb Link  \\\n",
       "0      114709  http://www.imdb.com/title/tt114709   \n",
       "1      113497  http://www.imdb.com/title/tt113497   \n",
       "2      113228  http://www.imdb.com/title/tt113228   \n",
       "3      114885  http://www.imdb.com/title/tt114885   \n",
       "4      113041  http://www.imdb.com/title/tt113041   \n",
       "...       ...                                 ...   \n",
       "40103   83168   http://www.imdb.com/title/tt83168   \n",
       "40104   82875   http://www.imdb.com/title/tt82875   \n",
       "40105  815258  http://www.imdb.com/title/tt815258   \n",
       "40106   79142   http://www.imdb.com/title/tt79142   \n",
       "40107   70710   http://www.imdb.com/title/tt70710   \n",
       "\n",
       "                                    Title  IMDB Score  \\\n",
       "0                        Toy Story (1995)         8.3   \n",
       "1                          Jumanji (1995)         6.9   \n",
       "2                 Grumpier Old Men (1995)         6.6   \n",
       "3                Waiting to Exhale (1995)         5.7   \n",
       "4      Father of the Bride Part II (1995)         5.9   \n",
       "...                                   ...         ...   \n",
       "40103               Tanya's Island (1980)         4.3   \n",
       "40104               Pacific Banana (1981)         4.7   \n",
       "40105  Werewolf in a Womens Prison (2006)         4.5   \n",
       "40106              Xiao zi ming da (1979)         6.5   \n",
       "40107                     Snatched (1973)         6.5   \n",
       "\n",
       "                            Genre  \\\n",
       "0      Animation|Adventure|Comedy   \n",
       "1         Action|Adventure|Family   \n",
       "2                  Comedy|Romance   \n",
       "3            Comedy|Drama|Romance   \n",
       "4           Comedy|Family|Romance   \n",
       "...                           ...   \n",
       "40103                       Drama   \n",
       "40104                      Comedy   \n",
       "40105                      Horror   \n",
       "40106               Action|Comedy   \n",
       "40107        Crime|Drama|Thriller   \n",
       "\n",
       "                                                  Poster  \n",
       "0      https://images-na.ssl-images-amazon.com/images...  \n",
       "1      https://images-na.ssl-images-amazon.com/images...  \n",
       "2      https://images-na.ssl-images-amazon.com/images...  \n",
       "3      https://images-na.ssl-images-amazon.com/images...  \n",
       "4      https://images-na.ssl-images-amazon.com/images...  \n",
       "...                                                  ...  \n",
       "40103  https://images-na.ssl-images-amazon.com/images...  \n",
       "40104  https://images-na.ssl-images-amazon.com/images...  \n",
       "40105  https://images-na.ssl-images-amazon.com/images...  \n",
       "40106  https://images-na.ssl-images-amazon.com/images...  \n",
       "40107                                                NaN  \n",
       "\n",
       "[40108 rows x 6 columns]"
      ]
     },
     "execution_count": 80,
     "metadata": {},
     "output_type": "execute_result"
    }
   ],
   "source": [
    "df_mg = pd.read_csv('data/MovieGenre.csv', encoding = 'latin')\n",
    "df_mg"
   ]
  },
  {
   "cell_type": "code",
   "execution_count": 81,
   "metadata": {},
   "outputs": [
    {
     "data": {
      "text/html": [
       "<div>\n",
       "<style scoped>\n",
       "    .dataframe tbody tr th:only-of-type {\n",
       "        vertical-align: middle;\n",
       "    }\n",
       "\n",
       "    .dataframe tbody tr th {\n",
       "        vertical-align: top;\n",
       "    }\n",
       "\n",
       "    .dataframe thead th {\n",
       "        text-align: right;\n",
       "    }\n",
       "</style>\n",
       "<table border=\"1\" class=\"dataframe\">\n",
       "  <thead>\n",
       "    <tr style=\"text-align: right;\">\n",
       "      <th></th>\n",
       "      <th>Title</th>\n",
       "      <th>Genre</th>\n",
       "    </tr>\n",
       "  </thead>\n",
       "  <tbody>\n",
       "    <tr>\n",
       "      <th>0</th>\n",
       "      <td>Toy Story (1995)</td>\n",
       "      <td>Animation|Adventure|Comedy</td>\n",
       "    </tr>\n",
       "    <tr>\n",
       "      <th>1</th>\n",
       "      <td>Jumanji (1995)</td>\n",
       "      <td>Action|Adventure|Family</td>\n",
       "    </tr>\n",
       "    <tr>\n",
       "      <th>2</th>\n",
       "      <td>Grumpier Old Men (1995)</td>\n",
       "      <td>Comedy|Romance</td>\n",
       "    </tr>\n",
       "    <tr>\n",
       "      <th>3</th>\n",
       "      <td>Waiting to Exhale (1995)</td>\n",
       "      <td>Comedy|Drama|Romance</td>\n",
       "    </tr>\n",
       "    <tr>\n",
       "      <th>4</th>\n",
       "      <td>Father of the Bride Part II (1995)</td>\n",
       "      <td>Comedy|Family|Romance</td>\n",
       "    </tr>\n",
       "    <tr>\n",
       "      <th>...</th>\n",
       "      <td>...</td>\n",
       "      <td>...</td>\n",
       "    </tr>\n",
       "    <tr>\n",
       "      <th>40103</th>\n",
       "      <td>Tanya's Island (1980)</td>\n",
       "      <td>Drama</td>\n",
       "    </tr>\n",
       "    <tr>\n",
       "      <th>40104</th>\n",
       "      <td>Pacific Banana (1981)</td>\n",
       "      <td>Comedy</td>\n",
       "    </tr>\n",
       "    <tr>\n",
       "      <th>40105</th>\n",
       "      <td>Werewolf in a Womens Prison (2006)</td>\n",
       "      <td>Horror</td>\n",
       "    </tr>\n",
       "    <tr>\n",
       "      <th>40106</th>\n",
       "      <td>Xiao zi ming da (1979)</td>\n",
       "      <td>Action|Comedy</td>\n",
       "    </tr>\n",
       "    <tr>\n",
       "      <th>40107</th>\n",
       "      <td>Snatched (1973)</td>\n",
       "      <td>Crime|Drama|Thriller</td>\n",
       "    </tr>\n",
       "  </tbody>\n",
       "</table>\n",
       "<p>40108 rows × 2 columns</p>\n",
       "</div>"
      ],
      "text/plain": [
       "                                    Title                       Genre\n",
       "0                        Toy Story (1995)  Animation|Adventure|Comedy\n",
       "1                          Jumanji (1995)     Action|Adventure|Family\n",
       "2                 Grumpier Old Men (1995)              Comedy|Romance\n",
       "3                Waiting to Exhale (1995)        Comedy|Drama|Romance\n",
       "4      Father of the Bride Part II (1995)       Comedy|Family|Romance\n",
       "...                                   ...                         ...\n",
       "40103               Tanya's Island (1980)                       Drama\n",
       "40104               Pacific Banana (1981)                      Comedy\n",
       "40105  Werewolf in a Womens Prison (2006)                      Horror\n",
       "40106              Xiao zi ming da (1979)               Action|Comedy\n",
       "40107                     Snatched (1973)        Crime|Drama|Thriller\n",
       "\n",
       "[40108 rows x 2 columns]"
      ]
     },
     "execution_count": 81,
     "metadata": {},
     "output_type": "execute_result"
    }
   ],
   "source": [
    "df_mg.drop(['Imdb Link','IMDB Score','imdbId', 'Poster'], axis=1, inplace=True)\n",
    "df_mg"
   ]
  },
  {
   "cell_type": "code",
   "execution_count": 88,
   "metadata": {},
   "outputs": [],
   "source": [
    "import random\n",
    "\n",
    "positive_gen = ['Comedy', 'Adventure', 'Fantasy', 'Romance', 'Action']\n",
    "neutral_gen = ['Documentary', 'Biography', 'History']\n",
    "negative_gen = ['Drama', 'Horror', 'Crime', 'Thriller', 'Mistery', 'Sad']\n",
    "\n",
    "def recommend_film(value):\n",
    "    if value=='positive' : gen_list = positive_gen\n",
    "    elif value=='negative' : gen_list = negative_gen\n",
    "    else : gen_list = neutral_gen\n",
    "    titles = df_mg['Title'].astype(str)\n",
    "    genres = df_mg['Genre'].astype(str)\n",
    "    films = []\n",
    "    for (t,g) in list(zip(titles,genres)):\n",
    "        if g.find(random.choice(gen_list)) == -1:\n",
    "        #if random.choice(positive_gen) in g :\n",
    "            films.append(t)\n",
    "    return random.choice(films)"
   ]
  },
  {
   "cell_type": "code",
   "execution_count": 89,
   "metadata": {},
   "outputs": [
    {
     "name": "stdout",
     "output_type": "stream",
     "text": [
      "positive    10\n",
      "neutral      5\n",
      "negative     5\n",
      "Name: Model 1, dtype: int64\n",
      "Pelicula recomendada para sentimiento positivo: American Beauty (1999)\n"
     ]
    }
   ],
   "source": [
    "print(final_results['Model 1'].value_counts())\n",
    "print('Pelicula recomendada para sentimiento positivo: ' + recommend_film('positive'))"
   ]
  },
  {
   "cell_type": "code",
   "execution_count": 90,
   "metadata": {},
   "outputs": [
    {
     "name": "stdout",
     "output_type": "stream",
     "text": [
      "positive    9\n",
      "neutral     8\n",
      "negative    3\n",
      "Name: Model 2, dtype: int64\n",
      "Pelicula recomendada para sentimiento neutral: Doragon bÌ«ru GT: GokÌÈ gaiden! YÌÈki no akashi wa sÌÈ-shin-chÌÈ (1997)\n"
     ]
    }
   ],
   "source": [
    "print(final_results['Model 2'].value_counts())\n",
    "print('Pelicula recomendada para sentimiento neutral: ' + recommend_film('positive'))"
   ]
  },
  {
   "cell_type": "markdown",
   "metadata": {},
   "source": [
    "## Utilizando la beta privada de OpenAI - GPT3\n",
    "\n",
    "### Primera solución\n",
    "\n",
    "Input:\n",
    "\n",
    "```\n",
    "- What is the tweet you want to analyse?\n",
    "+ I am so happy\n",
    "- Your sentiment is positive, you should watch an action film like Project X\n",
    "- What is the tweet you want to analyse?\n",
    "+ This sucks, I am bored\n",
    "- Your sentiment is negative, you should watch a horror film like Saw\n",
    "- What is the tweet you want to analyse?\n",
    "+ Madrid is my favourite football team\n",
    "- Your sentiment is neutral, you should watch a documentary film like The Great Hack\n",
    "- What is the tweet you want to analyse?\n",
    "+ r i p monte the director \n",
    "- Your sentiment is negative, you should watch a drama film like Titanic\n",
    "- What is the tweet you want to analyse?\n",
    "+ Oh, I was surprised when you said it\n",
    "- Your sentiment is positive, you should watch an action film like Fast & Furious\n",
    "- What is the tweet you want to analyse?\n",
    "+ Professional don't show us the reality of this game \n",
    "```\n",
    "\n",
    "Output:\n",
    "\n",
    "```\n",
    "- Your sentiment is positive, you should watch a drama film like Still Alice\n",
    "- What is the tweet you want to analyse?\n",
    "+ You only like old films\n",
    "- Your sentiment is negative, you should watch a drama film like Gravity\n",
    "- What is the tweet you want to analyse?\n",
    "```\n",
    "\n",
    "\n",
    "### Segunda solución\n",
    "\n",
    "Input:\n",
    "```\n",
    "This is a film recommendation based on sentiment\n",
    "Tweet: \"I loved the new Batman movie!\"\n",
    "Sentiment: Positive\n",
    "Action film:  Spiderman\n",
    "###\n",
    "Tweet: \"I hate it when my phone battery dies\"\n",
    "Sentiment: Negative\n",
    "Horror film: Saw\n",
    "###\n",
    "Tweet: \"My day has been 👍\"\n",
    "Sentiment: Positive\n",
    "Comedy film: Game Night\n",
    "###\n",
    "Tweet: \"This is the link to the article\"\n",
    "Sentiment: Neutral\n",
    "Documentary film: The Great Hack\n",
    "###\n",
    "Tweet text\n",
    "\n",
    "\n",
    "1. \"I loved the new Batman movie!\"\n",
    "2. \"I hate it when my phone battery dies\"\n",
    "3. \"My day has been 👍\"\n",
    "4. \"This is the link to the article\"\n",
    "5. \"This new music video blew my mind\"\n",
    "\n",
    "\n",
    "Tweet sentiment ratings:\n",
    "1: Positive\n",
    "2: Negative\n",
    "3: Positive\n",
    "4: Neutral\n",
    "5: Positive\n",
    "\n",
    "Tweet recommended films:\n",
    "1:  Action: Batman\n",
    "2: Horror: Saw\n",
    "3: Comedy: Game Night\n",
    "4: Documentary: The Great Hack\n",
    "5: Comedy: Blockers\n",
    "\n",
    "\n",
    "###\n",
    "Tweet text\n",
    "\n",
    "\n",
    "1. \"I can't stand homework\"\n",
    "2. \"This sucks. I'm bored 😠\"\n",
    "3. \"I can't wait for Halloween!!!\"\n",
    "4. \"My cat is adorable ❤️❤️\"\n",
    "5. \"I hate chocolate\"\n",
    "\n",
    "\n",
    "Tweet sentiment ratings:\n",
    "1:  Negative\n",
    "2:\n",
    "```\n",
    "Output:\n",
    "\n",
    "```\n",
    "   Negative\n",
    "3: Positive\n",
    "4: Positive\n",
    "5: Negative\n",
    "\n",
    "Tweet recommended films:\n",
    "1: Action: Spiderman\n",
    "2: Horror: The Conjuring\n",
    "3: Comedy: Game Night\n",
    "4: Documentary: The Great Hack\n",
    "5: Comedy: Blockers\n",
    "```"
   ]
  }
 ],
 "metadata": {
  "kernelspec": {
   "display_name": "Python 3",
   "language": "python",
   "name": "python3"
  },
  "language_info": {
   "codemirror_mode": {
    "name": "ipython",
    "version": 3
   },
   "file_extension": ".py",
   "mimetype": "text/x-python",
   "name": "python",
   "nbconvert_exporter": "python",
   "pygments_lexer": "ipython3",
   "version": "3.6.9"
  }
 },
 "nbformat": 4,
 "nbformat_minor": 5
}
